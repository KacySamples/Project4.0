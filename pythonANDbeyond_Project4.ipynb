{
 "cells": [
  {
   "cell_type": "code",
   "execution_count": 46,
   "id": "5b7d9dc7",
   "metadata": {},
   "outputs": [],
   "source": [
    "#DATA CLEANING and MERGING"
   ]
  },
  {
   "cell_type": "code",
   "execution_count": 47,
   "id": "9134d26a",
   "metadata": {},
   "outputs": [],
   "source": [
    "import pandas as pd"
   ]
  },
  {
   "cell_type": "code",
   "execution_count": 48,
   "id": "1ec2b86d",
   "metadata": {},
   "outputs": [
    {
     "name": "stderr",
     "output_type": "stream",
     "text": [
      "C:\\Users\\sampl\\AppData\\Local\\Temp\\ipykernel_23068\\2315768313.py:2: DtypeWarning: Columns (10) have mixed types. Specify dtype option on import or set low_memory=False.\n",
      "  movies_metadata = pd.read_csv('./data/movies_metadata.csv')\n"
     ]
    }
   ],
   "source": [
    "# Load the dataset\n",
    "movies_metadata = pd.read_csv('./data/movies_metadata.csv')\n",
    "\n",
    "# Convert budget, popularity, revenue, runtime, vote_average, and vote_count to numeric\n",
    "numeric_columns = ['budget', 'popularity', 'revenue', 'runtime', 'vote_average', 'vote_count']\n",
    "for col in numeric_columns:\n",
    "    movies_metadata[col] = pd.to_numeric(movies_metadata[col], errors='coerce').fillna(0)\n",
    "\n",
    "# Convert release_date to datetime\n",
    "movies_metadata['release_date'] = pd.to_datetime(movies_metadata['release_date'], errors='coerce')\n",
    "\n",
    "# Drop unneeded columns\n",
    "columns_to_drop = ['adult', 'homepage', 'poster_path', 'video']\n",
    "movies_metadata.drop(columns=columns_to_drop, inplace=True)"
   ]
  },
  {
   "cell_type": "code",
   "execution_count": 49,
   "id": "f5e4aae4",
   "metadata": {},
   "outputs": [],
   "source": [
    "# load credits.csv into a DataFrame\n",
    "credits = pd.read_csv('./data/credits.csv')\n",
    "\n",
    "# Convert 'id' in credits to integer\n",
    "credits['id'] = pd.to_numeric(credits['id'], errors='coerce').astype('Int64')"
   ]
  },
  {
   "cell_type": "code",
   "execution_count": 50,
   "id": "d379ee84",
   "metadata": {},
   "outputs": [],
   "source": [
    "# load keywords.csv into a DataFrame\n",
    "keywords = pd.read_csv('./data/keywords.csv')\n",
    "\n",
    "# Convert 'id' in keywords to integer\n",
    "keywords['id'] = pd.to_numeric(keywords['id'], errors='coerce').fillna(0).astype('Int64')"
   ]
  },
  {
   "cell_type": "code",
   "execution_count": 51,
   "id": "de08351f",
   "metadata": {},
   "outputs": [],
   "source": [
    "# Convert 'id' in movies_metadata to integer\n",
    "movies_metadata['id'] = pd.to_numeric(movies_metadata['id'], errors='coerce').fillna(0).astype('Int64')"
   ]
  },
  {
   "cell_type": "code",
   "execution_count": 52,
   "id": "68e31f40",
   "metadata": {},
   "outputs": [],
   "source": [
    "# Merge\n",
    "movies_metadata = movies_metadata.merge(credits, on='id', how='left')\n",
    "movies_metadata = movies_metadata.merge(keywords, on='id', how='left')"
   ]
  },
  {
   "cell_type": "code",
   "execution_count": 53,
   "id": "e0e07966",
   "metadata": {},
   "outputs": [],
   "source": [
    "# Save the merged DataFrame to a new CSV file\n",
    "movies_metadata.to_csv('./data/cleaned_merged_movies_data.csv', index=False)"
   ]
  },
  {
   "cell_type": "code",
   "execution_count": null,
   "id": "4f929b3c",
   "metadata": {},
   "outputs": [],
   "source": [
    "# GRAPHS AND INSIGHTS"
   ]
  },
  {
   "cell_type": "code",
   "execution_count": null,
   "id": "ddfe4492",
   "metadata": {},
   "outputs": [],
   "source": [
    "# MORE CLEANING AND PARSING JSON-LIKE STRING COLUMNS IN A DATAFRAME\n",
    "\n",
    "import pandas as pd\n",
    "import matplotlib.pyplot as plt\n",
    "import networkx as nx\n",
    "\n",
    "# Corrected data dictionary variable name\n",
    "KG_data = {\n",
    "    'Movie': ['Corpse Bride', 'The Lord of the Rings: The Fellowship of the Ring', 'Edward Scissorhands'],\n",
    "    'Director': ['Tim Burton', 'Peter Jackson', 'Tim Burton'],\n",
    "    'Cast': [['Johnny Depp', 'Christopher Lee'], ['Christopher Lee', 'Elijah Wood'], ['Johnny Depp', 'Dianne Wiest']],\n",
    "    'Genre': ['Romance', 'Fantasy', 'Fantasy']\n",
    "}\n",
    "\n",
    "# Convert the corrected data into a DataFrame\n",
    "df = pd.DataFrame(KG_data)\n",
    "\n",
    "# Create a graph\n",
    "G = nx.Graph()\n",
    "\n",
    "# Add nodes with the node attribute \"type\" and edges\n",
    "for index, row in df.iterrows():\n",
    "    G.add_node(row['Movie'], type='Movie')\n",
    "    G.add_node(row['Director'], type='Director')\n",
    "    for actor in row['Cast']:\n",
    "        G.add_node(actor, type='Actor')\n",
    "    G.add_node(row['Genre'], type='Genre')\n",
    "\n",
    "    # Add edges\n",
    "    G.add_edge(row['Movie'], row['Director'])\n",
    "    for actor in row['Cast']:\n",
    "        G.add_edge(row['Movie'], actor)\n",
    "    G.add_edge(row['Movie'], row['Genre'])\n",
    "\n",
    "# Visualization\n",
    "plt.figure(figsize=(12, 8))\n",
    "pos = nx.spring_layout(G, seed=42)  \n",
    "nx.draw(G, pos, with_labels=True, node_size=2000, node_color=\"lightblue\", font_size=10, font_weight=\"bold\")\n",
    "plt.title(\"Movie Knowledge Graph\")\n",
    "plt.show()\n"
   ]
  },
  {
   "cell_type": "code",
   "execution_count": null,
   "id": "bccd8176",
   "metadata": {},
   "outputs": [],
   "source": [
    "# Assuming the CSV file is located in the './data/' directory\n",
    "file_path = './data/cleaned_merged_movies_data.csv'\n",
    "# Read the CSV file into a DataFrame\n",
    "cleaned_merged_movies_data = pd.read_csv(file_path)\n",
    "# Display the DataFrame\n",
    "cleaned_merged_movies_data\n"
   ]
  },
  {
   "cell_type": "code",
   "execution_count": null,
   "id": "f36d08dd",
   "metadata": {},
   "outputs": [],
   "source": [
    "import pandas as pd\n",
    "\n",
    "# Assuming 'release_date' is in the format 'YYYY-MM-DD' and your DataFrame is cleaned_merged_movies_data\n",
    "# Convert 'release_date' to datetime format\n",
    "cleaned_merged_movies_data['release_date'] = pd.to_datetime(cleaned_merged_movies_data['release_date'])\n",
    "\n",
    "# Extract year from 'release_date'\n",
    "cleaned_merged_movies_data['year'] = cleaned_merged_movies_data['release_date'].dt.year\n",
    "\n",
    "# Convert year to decade\n",
    "cleaned_merged_movies_data['decade'] = (cleaned_merged_movies_data['year'] // 15) * 15\n"
   ]
  },
  {
   "cell_type": "code",
   "execution_count": null,
   "id": "1f9de7f4",
   "metadata": {},
   "outputs": [],
   "source": [
    "import matplotlib.pyplot as plt\n",
    "import seaborn as sns\n",
    "\n",
    "# Make sure this DataFrame exists and has the columns 'decade' and 'vote_average'\n",
    "# This is just an example; replace 'decade' and 'vote_average' with your actual column names\n",
    "plt.figure(figsize=(10, 6))\n",
    "sns.violinplot(x='decade', y='vote_average', data=cleaned_merged_movies_data)\n",
    "\n",
    "plt.title('Violin plot of Average Vote by Decade')\n",
    "plt.xlabel('Decade')\n",
    "plt.ylabel('Average Vote')\n",
    "\n",
    "plt.show()"
   ]
  },
  {
   "cell_type": "code",
   "execution_count": null,
   "id": "dac71a3e",
   "metadata": {},
   "outputs": [],
   "source": [
    "import matplotlib.pyplot as plt\n",
    "import seaborn as sns\n",
    "import numpy as np\n",
    "from wordcloud import WordCloud\n",
    "import plotly.express as px\n",
    "import plotly.graph_objects as go\n",
    "import ipywidgets as widgets"
   ]
  },
  {
   "cell_type": "code",
   "execution_count": null,
   "id": "eaf66760",
   "metadata": {},
   "outputs": [],
   "source": [
    "# Load the CSV file into a DataFrame\n",
    "tmdb = pd.read_csv('./data/tmdb_5000_movies.csv')\n",
    "\n",
    "# Display the first few rows of the DataFrame to verify it's loaded correctly\n",
    "tmdb.head()"
   ]
  },
  {
   "cell_type": "code",
   "execution_count": null,
   "id": "f3cde5ee",
   "metadata": {},
   "outputs": [],
   "source": [
    "# Load the CSV file into a DataFrame\n",
    "df = pd.read_csv('data/tmdb_5000_movies.csv')\n",
    "\n",
    "# Define a function to clean up the \"genres\" column\n",
    "def clean_genres(genres_str):\n",
    "    genres_list = genres_str.strip('[]').replace('\"', '').split(', ')\n",
    "    return [genre.strip() for genre in genres_list]\n",
    "\n",
    "# Apply the clean_genres function to the \"genres\" column\n",
    "df['genres'] = df['genres'].apply(clean_genres)\n",
    "\n",
    "# Convert 'release_date' to datetime data type\n",
    "df['release_date'] = pd.to_datetime(df['release_date'])\n",
    "\n",
    "# Group by release date and genre, and calculate aggregate revenue\n",
    "genre_revenue_over_time = df.explode('genres').groupby(['release_date', 'genres'])['revenue'].sum().reset_index()\n",
    "\n",
    "# Sort DataFrame by release date\n",
    "genre_revenue_over_time = genre_revenue_over_time.sort_values(by='release_date')\n",
    "\n",
    "# Create line chart using Plotly\n",
    "fig = px.line(\n",
    "    genre_revenue_over_time,\n",
    "    x='release_date',\n",
    "    y='revenue',\n",
    "    color='genres',\n",
    "    title='Aggregate Genre Revenue Over Time',\n",
    "    labels={'release_date': 'Release Date', 'revenue': 'Aggregate Revenue', 'genres': 'Genre'},\n",
    ")\n",
    "\n",
    "fig.show()"
   ]
  },
  {
   "cell_type": "code",
   "execution_count": null,
   "id": "778cee07",
   "metadata": {},
   "outputs": [],
   "source": [
    "# Selecting columns containing text data\n",
    "text_columns = ['genres']\n",
    "\n",
    "# Concatenate text data from selected columns\n",
    "text_data = tmdb[text_columns].apply(lambda x: ' '.join(x.dropna()), axis=1)\n",
    "\n",
    "# Combine all text into a single string\n",
    "text_combined = ' '.join(text_data)\n",
    "\n",
    "# Generate word cloud\n",
    "wordcloud = WordCloud(width=800, height=400, background_color='white').generate(text_combined)\n",
    "\n",
    "# Plot the word cloud\n",
    "plt.figure(figsize=(10, 6))\n",
    "plt.imshow(wordcloud, interpolation='bilinear')\n",
    "plt.title('Movie Data Word Cloud', fontsize=20)\n",
    "plt.axis('off')\n",
    "plt.show()\n"
   ]
  },
  {
   "cell_type": "code",
   "execution_count": null,
   "id": "e3c9625b",
   "metadata": {},
   "outputs": [],
   "source": [
    "import pandas as pd\n",
    "import plotly.express as px\n",
    "\n",
    "# Load the CSV file into a DataFrame\n",
    "df = pd.read_csv('data/tmdb_5000_movies.csv')\n",
    "\n",
    "# Define a function to clean up the \"genres\" column\n",
    "def clean_genres(genres_str):\n",
    "    genres_list = genres_str.strip('[]').replace('\"', '').split(', ')\n",
    "    return [genre.strip() for genre in genres_list]\n",
    "\n",
    "# Apply the clean_genres function to the \"genres\" column\n",
    "df['genres'] = df['genres'].apply(clean_genres)\n",
    "\n",
    "# Convert 'release_date' to datetime data type\n",
    "df['release_date'] = pd.to_datetime(df['release_date'])\n",
    "\n",
    "# Calculate profitability for each genre over time\n",
    "profitability_by_genre_over_time = df.explode('genres').groupby(['release_date', 'genres'])[['revenue', 'budget']].sum().reset_index()\n",
    "profitability_by_genre_over_time['profit'] = profitability_by_genre_over_time['revenue'] - profitability_by_genre_over_time['budget']\n",
    "\n",
    "# Find the least profitable genre for each time period\n",
    "least_profitable_genre_over_time = profitability_by_genre_over_time.loc[profitability_by_genre_over_time.groupby('release_date')['profit'].idxmin()]\n",
    "\n",
    "# Sort DataFrame by release date\n",
    "least_profitable_genre_over_time = least_profitable_genre_over_time.sort_values(by='release_date')\n",
    "\n",
    "# Create line chart using Plotly\n",
    "fig = px.line(\n",
    "    least_profitable_genre_over_time,\n",
    "    x='release_date',\n",
    "    y='profit',\n",
    "    color='genres',\n",
    "    title='Least Profitable Genre Over Time',\n",
    "    labels={'release_date': 'Release Date', 'profit': 'Profit', 'genres': 'Genre'},\n",
    ")\n",
    "\n",
    "fig.show()"
   ]
  },
  {
   "cell_type": "code",
   "execution_count": null,
   "id": "53e127d4",
   "metadata": {},
   "outputs": [],
   "source": [
    "# Assuming the CSV file is located in the './data/' directory\n",
    "file_path = './data/cleaned_merged_movies_data.csv'\n",
    "\n",
    "# Read the CSV file into a DataFrame\n",
    "cleaned_merged_movies_data = pd.read_csv(file_path)\n",
    "\n",
    "\n",
    "\n",
    "# Display the DataFrame\n",
    "cleaned_merged_movies_data"
   ]
  },
  {
   "cell_type": "code",
   "execution_count": null,
   "id": "d4737116",
   "metadata": {},
   "outputs": [],
   "source": [
    "# Selecting relevant columns\n",
    "columns = ['genres', 'runtime', 'popularity']\n",
    "\n",
    "# Creating a dropdown menu for movie selection\n",
    "dropdown_options = [{'label': movie, 'value': movie} for movie in cleaned_merged_movies_data['original_title']]\n",
    "\n",
    "# Define the layout of the radar chart\n",
    "layout = go.Layout(\n",
    "    polar=dict(\n",
    "        radialaxis=dict(\n",
    "            visible=True,\n",
    "            range=[0, 10]  # Adjust the range as needed\n",
    "        )),\n",
    "    showlegend=True\n",
    ")\n",
    "\n",
    "# Function to generate radar chart based on selected movie\n",
    "def generate_radar_chart(selected_movie):\n",
    "    movie_data = cleaned_merged_movies_data[cleaned_merged_movies_data['original_title'] == selected_movie]\n",
    "    fig = go.Figure(data=go.Scatterpolar(\n",
    "        r=movie_data[columns].values.flatten().tolist(),\n",
    "        theta=columns*2,  # Repeating columns to close the radar chart\n",
    "        fill='toself',\n",
    "        name=selected_movie\n",
    "    ), layout=layout)\n",
    "    fig.show()\n",
    "\n",
    "# Creating the dropdown menu\n",
    "dropdown = go.FigureWidget([\n",
    "    go.Dropdown(\n",
    "        id='movie-dropdown',\n",
    "        options=dropdown_options,\n",
    "        value=cleaned_merged_movies_data['original_title'].iloc[0],  # Default value\n",
    "        description='Movie:',\n",
    "        disabled=False\n",
    "    )\n",
    "])\n",
    "\n",
    "# Display the radar chart based on the selected movie\n",
    "def response(change):\n",
    "    generate_radar_chart(change.new)\n",
    "\n",
    "dropdown.data[0].on_change(response, 'value')\n",
    "dropdown\n"
   ]
  },
  {
   "cell_type": "code",
   "execution_count": null,
   "id": "8abd46e1",
   "metadata": {},
   "outputs": [],
   "source": [
    "# Handle missing values\n",
    "cleaned_merged_movies_data.dropna(inplace=True)\n",
    "\n",
    "# Selecting relevant quantitative variables\n",
    "quantitative_variables = ['budget', 'revenue','runtime']\n",
    "\n",
    "# Subsetting the DataFrame with only the quantitative variables\n",
    "movies_subset = cleaned_merged_movies_data[quantitative_variables]\n",
    "\n",
    "# Creating pairplot\n",
    "sns.pairplot(movies_subset)\n",
    "plt.show()"
   ]
  },
  {
   "cell_type": "code",
   "execution_count": null,
   "id": "53355610",
   "metadata": {},
   "outputs": [],
   "source": [
    "# Selecting relevant quantitative variables\n",
    "quantitative_variables = ['budget', 'revenue', 'runtime', 'popularity', 'vote_count']\n",
    "\n",
    "# Subsetting the DataFrame with only the quantitative variables\n",
    "movies_subset = cleaned_merged_movies_data[quantitative_variables]\n",
    "\n",
    "# Calculate mean values for each variable\n",
    "mean_values = movies_subset.mean()\n",
    "\n",
    "# Number of variables\n",
    "num_vars = len(quantitative_variables)\n",
    "\n",
    "# Create a DataFrame to store mean values\n",
    "stats = pd.DataFrame({\n",
    "    'mean': mean_values\n",
    "})\n",
    "\n",
    "# Create a list of variable names\n",
    "labels = quantitative_variables\n",
    "\n",
    "# Number of variables\n",
    "num_vars = len(labels)\n",
    "\n",
    "# Compute angle for each axis\n",
    "angles = np.linspace(0, 2 * np.pi, num_vars, endpoint=False).tolist()\n",
    "\n",
    "# The plot is circular, so we need to \"complete the loop\" and append the start value to the end.\n",
    "stats = np.concatenate((stats['mean'].values,[stats['mean'].values[0]]))\n",
    "angles += angles[:1]\n",
    "\n",
    "# Plot\n",
    "fig, ax = plt.subplots(figsize=(10, 10), subplot_kw=dict(polar=True))\n",
    "ax.fill(angles, stats, color='red', alpha=0.25)\n",
    "ax.plot(angles, stats, color='red', linewidth=2)\n",
    "\n",
    "# Fill area with color\n",
    "ax.fill(angles, stats, color='red', alpha=0.25)\n",
    "\n",
    "# Labels for each point\n",
    "ax.set_yticklabels([])\n",
    "\n",
    "# Draw one axe per variable and add labels\n",
    "plt.xticks(angles[:-1], labels)\n",
    "\n",
    "# Show the plot\n",
    "plt.show()\n"
   ]
  },
  {
   "cell_type": "code",
   "execution_count": 56,
   "id": "6558b8cc",
   "metadata": {},
   "outputs": [],
   "source": [
    "# MORE CLEANING AND PARSING JSON-LIKE STRING COLUMNS IN A DATAFRAME"
   ]
  },
  {
   "cell_type": "code",
   "execution_count": 57,
   "id": "5ca74f31",
   "metadata": {},
   "outputs": [
    {
     "data": {
      "text/plain": [
       "0     [Animation, Comedy, Family]\n",
       "1    [Adventure, Fantasy, Family]\n",
       "2               [Romance, Comedy]\n",
       "3        [Comedy, Drama, Romance]\n",
       "4                        [Comedy]\n",
       "Name: genres, dtype: object"
      ]
     },
     "execution_count": 57,
     "metadata": {},
     "output_type": "execute_result"
    }
   ],
   "source": [
    "import ast  # Import the Abstract Syntax Trees module\n",
    "\n",
    "# Create DataFrame\n",
    "df = pd.read_csv('./data/cleaned_merged_movies_data.csv')\n",
    "\n",
    "# Parse the JSON-like strings in columns\n",
    "def parse_column(text):\n",
    "    try:\n",
    "        # Convert the string to Python objects\n",
    "        return ast.literal_eval(text)\n",
    "    except ValueError:\n",
    "        return []  # Return an empty list if there's any error\n",
    "    except SyntaxError:\n",
    "        return []  # Handle syntax error by returning an empty list\n",
    "\n",
    "# Apply this function to the 'genres' column to convert from string to list\n",
    "df['genres'] = df['genres'].apply(parse_column)\n",
    "\n",
    "# Now, to extract just the names from the 'genres' column\n",
    "df['genres'] = df['genres'].apply(lambda x: [i['name'] for i in x] if isinstance(x, list) else [])\n",
    "\n",
    "# Preview the changes to the 'genres' column to confirm it's been cleaned\n",
    "df['genres'].head()"
   ]
  },
  {
   "cell_type": "code",
   "execution_count": 58,
   "id": "edbeb6f6",
   "metadata": {},
   "outputs": [],
   "source": [
    "# Apply the parsing function to the 'production_companies' column\n",
    "df['production_companies'] = df['production_companies'].apply(parse_column)\n",
    "\n",
    "# Extract company names\n",
    "df['production_companies'] = df['production_companies'].apply(lambda x: [i['name'] for i in x] if isinstance(x, list) else [])"
   ]
  },
  {
   "cell_type": "code",
   "execution_count": 59,
   "id": "761c8cd2",
   "metadata": {},
   "outputs": [],
   "source": [
    "# Apply the parsing function to the 'cast' column\n",
    "df['cast'] = df['cast'].apply(parse_column)\n",
    "\n",
    "# Extract names of the first few cast members, 5 for simplicity\n",
    "df['cast'] = df['cast'].apply(lambda x: [i['name'] for i in x[:5]] if isinstance(x, list) else [])"
   ]
  },
  {
   "cell_type": "code",
   "execution_count": 60,
   "id": "f19a7cd7",
   "metadata": {},
   "outputs": [],
   "source": [
    "# Apply the parsing function to the 'crew' column\n",
    "df['crew'] = df['crew'].apply(parse_column)\n",
    "\n",
    "# Extract names of directors\n",
    "df['crew'] = df['crew'].apply(lambda x: [i['name'] for i in x if i['job'] == 'Director'] if isinstance(x, list) else [])"
   ]
  },
  {
   "cell_type": "code",
   "execution_count": 61,
   "id": "908b1a78",
   "metadata": {},
   "outputs": [],
   "source": [
    "# Apply the parsing function to the 'keywords' column\n",
    "df['keywords'] = df['keywords'].apply(parse_column)\n",
    "\n",
    "# Extract keywords\n",
    "df['keywords'] = df['keywords'].apply(lambda x: [i['name'] for i in x] if isinstance(x, list) else [])"
   ]
  },
  {
   "cell_type": "code",
   "execution_count": 62,
   "id": "68465b0b",
   "metadata": {},
   "outputs": [],
   "source": [
    "# WORKFLOW FOR BUILDING A CONTENT-BASED RECOMMENDATION SYSTEM"
   ]
  },
  {
   "cell_type": "code",
   "execution_count": 18,
   "id": "c3d5efcc",
   "metadata": {},
   "outputs": [],
   "source": [
    "#Aggregate Text Features, Combine text features into one string\n",
    "df['combined_features'] = df['overview'] + \" \" + df['genres'].apply(\" \".join) + \" \" + df['keywords'].apply(\" \".join) + \" \" + df['cast'].apply(\" \".join) + \" \" + df['crew'].apply(\" \".join)"
   ]
  },
  {
   "cell_type": "code",
   "execution_count": 19,
   "id": "8db489af",
   "metadata": {},
   "outputs": [],
   "source": [
    "# Fill NaN values in 'combined_features' with an empty string\n",
    "df['combined_features'] = df['combined_features'].fillna('')\n",
    "\n",
    "#TF-IDF vectorization\n",
    "from sklearn.feature_extraction.text import TfidfVectorizer\n",
    "\n",
    "# Initialize TF-IDF Vectorizer\n",
    "tfidf_vectorizer = TfidfVectorizer(stop_words='english')\n",
    "\n",
    "# Fit and transform the combined features\n",
    "tfidf_matrix = tfidf_vectorizer.fit_transform(df['combined_features'])"
   ]
  },
  {
   "cell_type": "code",
   "execution_count": 21,
   "id": "b71aa2a2",
   "metadata": {},
   "outputs": [],
   "source": [
    "# This one will take FOREVER, but that's ok...\n",
    "from sklearn.decomposition import TruncatedSVD\n",
    "from sklearn.metrics.pairwise import linear_kernel\n",
    "\n",
    "# Further reduce the number of components\n",
    "svd = TruncatedSVD(n_components=50)  # Adjusting n_components further\n",
    "tfidf_matrix_reduced = svd.fit_transform(tfidf_matrix)\n",
    "\n",
    "# Compute similarity on the reduced matrix\n",
    "cosine_sim = linear_kernel(tfidf_matrix_reduced, tfidf_matrix_reduced)"
   ]
  },
  {
   "cell_type": "code",
   "execution_count": 35,
   "id": "164bc32d",
   "metadata": {},
   "outputs": [],
   "source": [
    "#Recommendation Function\n",
    "# Function to get movie recommendations based on cosine similarity\n",
    "def get_recommendations(title, cosine_sim=cosine_sim):\n",
    "    # Get the index of the movie that matches the title\n",
    "    idx = df.loc[df['title'] == title].index[0]\n",
    "\n",
    "    # Get the pairwsie similarity scores of all movies with that movie\n",
    "    sim_scores = list(enumerate(cosine_sim[idx]))\n",
    "\n",
    "    # Sort the movies based on the similarity scores\n",
    "    sim_scores = sorted(sim_scores, key=lambda x: x[1], reverse=True)\n",
    "\n",
    "    # Get the scores of the 10 most similar movies\n",
    "    sim_scores = sim_scores[1:11]\n",
    "\n",
    "    # Get the movie indices\n",
    "    movie_indices = [i[0] for i in sim_scores]\n",
    "\n",
    "    # Return the top 10 most similar movies\n",
    "    return df['title'].iloc[movie_indices]"
   ]
  },
  {
   "cell_type": "code",
   "execution_count": 37,
   "id": "0e9c61c1",
   "metadata": {},
   "outputs": [],
   "source": [
    "# PROGRAMMATICALLY SELECT A DIVERSE SET OF TEST MOVIES, \n",
    "#ENSURE THEY EXIST IN THE DATASET, \n",
    "#AND GENERATE RECOMMENDATIONS FOR EACH OF THEM.\n",
    "#EASY-PEASY #HATERSgonnaHATE #PLAYERSgonnaPLATE"
   ]
  },
  {
   "cell_type": "code",
   "execution_count": 38,
   "id": "b27b1ce2",
   "metadata": {},
   "outputs": [],
   "source": [
    "# Example to programmatically select a diverse set of test movies\n",
    "test_movies = [\n",
    "    \"Toy Story\",  # Animation/Comedy\n",
    "    \"Pulp Fiction\",  # Crime/Drama\n",
    "    \"The Shining\",  # Horror\n",
    "    \"Interstellar\",  # Sci-Fi\n",
    "    \"The Grand Budapest Hotel\",  # Comedy/Drama\n",
    "    \"Hereditary\",  # Horror/Thriller\n",
    "    \"Moonlight\",  # Drama\n",
    "    \"Mad Max: Fury Road\",  # Action\n",
    "    # Add more titles as needed to cover a wide range of genres and years\n",
    "]\n",
    "\n",
    "# Ensure all test movies are in the dataset\n",
    "test_movies = [movie for movie in test_movies if movie in df['title'].values]"
   ]
  },
  {
   "cell_type": "code",
   "execution_count": 39,
   "id": "97eb5d8d",
   "metadata": {
    "scrolled": true
   },
   "outputs": [
    {
     "name": "stdout",
     "output_type": "stream",
     "text": [
      "Recommendations for Toy Story:\n",
      "13189                              Bolt\n",
      "3055                      Stuart Little\n",
      "2852     Home Alone 2: Lost in New York\n",
      "22514        Mio in the Land of Faraway\n",
      "34813                  Love the Coopers\n",
      "350                     The Flintstones\n",
      "24369                       The Captive\n",
      "36753                 Norm of the North\n",
      "36754                 Norm of the North\n",
      "31438     Tom and Jerry: The Magic Ring\n",
      "Name: title, dtype: object\n",
      "\n",
      "------------------------------------------------------------\n",
      "\n",
      "Recommendations for Pulp Fiction:\n",
      "1856      The French Connection\n",
      "26910             Out of Bounds\n",
      "3924                    Traffic\n",
      "9125                     Pusher\n",
      "23133                     Chiko\n",
      "27211    The Last of the Finest\n",
      "9514                 Layer Cake\n",
      "156                    Clockers\n",
      "4667               Training Day\n",
      "451                       Fresh\n",
      "Name: title, dtype: object\n",
      "\n",
      "------------------------------------------------------------\n",
      "\n",
      "Recommendations for The Shining:\n",
      "5837     About Schmidt\n",
      "9470            Trauma\n",
      "18955         Madhouse\n",
      "841               Wife\n",
      "842               Wife\n",
      "843               Wife\n",
      "844               Wife\n",
      "30176             Wife\n",
      "30177             Wife\n",
      "30178             Wife\n",
      "Name: title, dtype: object\n",
      "\n",
      "------------------------------------------------------------\n",
      "\n",
      "Recommendations for Interstellar:\n",
      "38934                        Prospect\n",
      "14644                          Avatar\n",
      "3251                  Mission to Mars\n",
      "10612      Zathura: A Space Adventure\n",
      "42646    Rogue One: A Star Wars Story\n",
      "44059                 Alien: Covenant\n",
      "36911                The War in Space\n",
      "36912                The War in Space\n",
      "21594                      About Time\n",
      "42645            The Space Between Us\n",
      "Name: title, dtype: object\n",
      "\n",
      "------------------------------------------------------------\n",
      "\n",
      "Recommendations for The Grand Budapest Hotel:\n",
      "6653                           Mambo Italiano\n",
      "35362     Wizards of Waverly Place: The Movie\n",
      "14718                     Hachi: A Dog's Tale\n",
      "8230                                   Eulogy\n",
      "20061                                Kathleen\n",
      "44628                              Bizim Aile\n",
      "11735                        A Taste of Honey\n",
      "38979                    Jock of the Bushveld\n",
      "23710    Sexual Chronicles of a French Family\n",
      "6845                    Dance with a Stranger\n",
      "Name: title, dtype: object\n",
      "\n",
      "------------------------------------------------------------\n",
      "\n",
      "Recommendations for Moonlight:\n",
      "41113                          Moonlight\n",
      "3924                             Traffic\n",
      "23133                              Chiko\n",
      "451                                Fresh\n",
      "3640                          Jesus' Son\n",
      "21333    How to Make Money Selling Drugs\n",
      "5230                                 Joe\n",
      "35674                            Twinkle\n",
      "35675                            Twinkle\n",
      "9125                              Pusher\n",
      "Name: title, dtype: object\n",
      "\n",
      "------------------------------------------------------------\n",
      "\n",
      "Recommendations for Mad Max: Fury Road:\n",
      "10517    Left Behind III: World at War\n",
      "6816            The Matrix Revolutions\n",
      "3638                        Titan A.E.\n",
      "14210                                9\n",
      "21196                     Man of Steel\n",
      "4583                         Def-Con 4\n",
      "374                            Timecop\n",
      "44247                       Half -Life\n",
      "42646     Rogue One: A Star Wars Story\n",
      "20228                       Slipstream\n",
      "Name: title, dtype: object\n",
      "\n",
      "------------------------------------------------------------\n",
      "\n"
     ]
    }
   ],
   "source": [
    "for movie in test_movies:\n",
    "    print(f\"Recommendations for {movie}:\")\n",
    "    recommendations = get_recommendations(movie)\n",
    "    print(recommendations)\n",
    "    print(\"\\n\" + \"-\"*60 + \"\\n\")"
   ]
  },
  {
   "cell_type": "code",
   "execution_count": null,
   "id": "693c8333",
   "metadata": {},
   "outputs": [],
   "source": [
    "# Here is the fun part! Type in a movie to replace Troy. Be sure to \n",
    "# leave the quotation marks. If our database has your movie title, and you\n",
    "# have spelled it exaclty as our database has it, buckle up for some \n",
    "# awesome recomendations!! "
   ]
  },
  {
   "cell_type": "code",
   "execution_count": 75,
   "id": "b7b794d2",
   "metadata": {},
   "outputs": [
    {
     "name": "stdout",
     "output_type": "stream",
     "text": [
      "Recommendations for Troy:\n"
     ]
    },
    {
     "data": {
      "text/plain": [
       "14545                               Brothers\n",
       "13320                               Defiance\n",
       "12678                                Shelter\n",
       "44949                       Het Bombardement\n",
       "32120            Everything's Gonna Be Great\n",
       "43949                         The Birch Wood\n",
       "32290                        Brothers of War\n",
       "1081                A Streetcar Named Desire\n",
       "18372                  Don't Worry, I'm Fine\n",
       "35305    How to Win at Checkers (Every Time)\n",
       "Name: title, dtype: object"
      ]
     },
     "execution_count": 75,
     "metadata": {},
     "output_type": "execute_result"
    }
   ],
   "source": [
    "test_movie_title = \"Troy\"\n",
    "recommended_movies = get_recommendations(test_movie_title)\n",
    "print(f\"Recommendations for {test_movie_title}:\")\n",
    "recommended_movies"
   ]
  },
  {
   "cell_type": "code",
   "execution_count": 40,
   "id": "77a7524e",
   "metadata": {},
   "outputs": [],
   "source": [
    "#FIN"
   ]
  }
 ],
 "metadata": {
  "kernelspec": {
   "display_name": "Python 3 (ipykernel)",
   "language": "python",
   "name": "python3"
  },
  "language_info": {
   "codemirror_mode": {
    "name": "ipython",
    "version": 3
   },
   "file_extension": ".py",
   "mimetype": "text/x-python",
   "name": "python",
   "nbconvert_exporter": "python",
   "pygments_lexer": "ipython3",
   "version": "3.11.4"
  }
 },
 "nbformat": 4,
 "nbformat_minor": 5
}
